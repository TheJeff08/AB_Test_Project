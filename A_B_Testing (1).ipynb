{
 "cells": [
  {
   "cell_type": "markdown",
   "id": "025072f4-8cbc-4f63-a571-2fbc1062905d",
   "metadata": {},
   "source": [
    "#### A/B Testing"
   ]
  },
  {
   "cell_type": "code",
   "execution_count": 1,
   "id": "9f55fe39-1d32-4b57-97b5-8629a33f6639",
   "metadata": {},
   "outputs": [],
   "source": [
    "import numpy as np\n",
    "import pandas as pd\n",
    "import scipy.stats as stats\n",
    "import statsmodels.stats.api as sms\n",
    "import matplotlib as mpl\n",
    "import matplotlib.pyplot as plt\n",
    "import seaborn as sns\n",
    "from math import ceil"
   ]
  },
  {
   "cell_type": "code",
   "execution_count": 2,
   "id": "bd3b31fd-ce4c-47cb-b3c1-e11ae0174049",
   "metadata": {},
   "outputs": [],
   "source": [
    "# In our hypothetical project, we've got users doing a test on a new UI.  Some got the new one, others the old one.  We're going to look at conversion rates.\n",
    "# The regular UI has a conversion rate of 13%, and the client will be stoked about a 2% lift to 15% conversion.\n",
    "# Now, we'll use an alpha of 0.05, and a power of 80% or 0.8 as standard.  \n",
    "# The power here will essentially say we've got an 80% chance to capture the statistics to rightly reject the null hypothesis or not."
   ]
  },
  {
   "cell_type": "code",
   "execution_count": 4,
   "id": "262f5d6e-99ca-42ba-b052-6a992cdead46",
   "metadata": {},
   "outputs": [
    {
     "name": "stdout",
     "output_type": "stream",
     "text": [
      "4720\n"
     ]
    }
   ],
   "source": [
    "effect_size = sms.proportion_effectsize(0.13, 0.15)    # So this is going to calc our effect size, using that 13% and 15% we want, as defined in the experiment outline\n",
    "\n",
    "required_n = sms.NormalIndPower().solve_power(\n",
    "    effect_size, \n",
    "    power=0.8, \n",
    "    alpha=0.05, \n",
    "    ratio=1\n",
    "    )                                                  # So this calcs the number we need for the parameters we've set\n",
    "\n",
    "required_n = ceil(required_n)                          # Rounds this to the next whole num                        \n",
    "\n",
    "print(required_n)"
   ]
  },
  {
   "cell_type": "code",
   "execution_count": 5,
   "id": "33435e37-89d3-4e1d-89d5-7afc1502acef",
   "metadata": {},
   "outputs": [
    {
     "data": {
      "text/html": [
       "<div>\n",
       "<style scoped>\n",
       "    .dataframe tbody tr th:only-of-type {\n",
       "        vertical-align: middle;\n",
       "    }\n",
       "\n",
       "    .dataframe tbody tr th {\n",
       "        vertical-align: top;\n",
       "    }\n",
       "\n",
       "    .dataframe thead th {\n",
       "        text-align: right;\n",
       "    }\n",
       "</style>\n",
       "<table border=\"1\" class=\"dataframe\">\n",
       "  <thead>\n",
       "    <tr style=\"text-align: right;\">\n",
       "      <th></th>\n",
       "      <th>user_id</th>\n",
       "      <th>timestamp</th>\n",
       "      <th>group</th>\n",
       "      <th>landing_page</th>\n",
       "      <th>converted</th>\n",
       "    </tr>\n",
       "  </thead>\n",
       "  <tbody>\n",
       "    <tr>\n",
       "      <th>0</th>\n",
       "      <td>851104</td>\n",
       "      <td>2017-01-21 22:11:48.556739</td>\n",
       "      <td>control</td>\n",
       "      <td>old_page</td>\n",
       "      <td>0</td>\n",
       "    </tr>\n",
       "    <tr>\n",
       "      <th>1</th>\n",
       "      <td>804228</td>\n",
       "      <td>2017-01-12 08:01:45.159739</td>\n",
       "      <td>control</td>\n",
       "      <td>old_page</td>\n",
       "      <td>0</td>\n",
       "    </tr>\n",
       "    <tr>\n",
       "      <th>2</th>\n",
       "      <td>661590</td>\n",
       "      <td>2017-01-11 16:55:06.154213</td>\n",
       "      <td>treatment</td>\n",
       "      <td>new_page</td>\n",
       "      <td>0</td>\n",
       "    </tr>\n",
       "    <tr>\n",
       "      <th>3</th>\n",
       "      <td>853541</td>\n",
       "      <td>2017-01-08 18:28:03.143765</td>\n",
       "      <td>treatment</td>\n",
       "      <td>new_page</td>\n",
       "      <td>0</td>\n",
       "    </tr>\n",
       "    <tr>\n",
       "      <th>4</th>\n",
       "      <td>864975</td>\n",
       "      <td>2017-01-21 01:52:26.210827</td>\n",
       "      <td>control</td>\n",
       "      <td>old_page</td>\n",
       "      <td>1</td>\n",
       "    </tr>\n",
       "  </tbody>\n",
       "</table>\n",
       "</div>"
      ],
      "text/plain": [
       "   user_id                   timestamp      group landing_page  converted\n",
       "0   851104  2017-01-21 22:11:48.556739    control     old_page          0\n",
       "1   804228  2017-01-12 08:01:45.159739    control     old_page          0\n",
       "2   661590  2017-01-11 16:55:06.154213  treatment     new_page          0\n",
       "3   853541  2017-01-08 18:28:03.143765  treatment     new_page          0\n",
       "4   864975  2017-01-21 01:52:26.210827    control     old_page          1"
      ]
     },
     "execution_count": 5,
     "metadata": {},
     "output_type": "execute_result"
    }
   ],
   "source": [
    "# As we can see above, based on the calculations that outline the different parameters we wanted in our experiment, we need 4,720 in our sample size\n",
    "\n",
    "df = pd.read_csv(\"ab_data.csv\")\n",
    "\n",
    "df.head()"
   ]
  },
  {
   "cell_type": "code",
   "execution_count": 7,
   "id": "138ddab8-904e-45df-8ab6-cec88d24e681",
   "metadata": {},
   "outputs": [
    {
     "name": "stdout",
     "output_type": "stream",
     "text": [
      "There are 3894 users that appear multiple times in the dataset\n"
     ]
    }
   ],
   "source": [
    "# Excellent.  We can see the import worked, and we can also see there's 5 columns.\n",
    "# First thing we ought to do is to check up on our data to make sure there's not multiple people that are being counted.  \n",
    "# We've got enough of a pop that eliminating some for this shouldn't be an issue.\n",
    "\n",
    "session_counts = df['user_id'].value_counts(ascending=False)\n",
    "multi_users = session_counts[session_counts > 1].count()\n",
    "\n",
    "print(f'There are {multi_users} users that appear multiple times in the dataset')"
   ]
  },
  {
   "cell_type": "code",
   "execution_count": 8,
   "id": "f388ccc0-09ee-49a1-ba98-e5a1e44b5638",
   "metadata": {},
   "outputs": [
    {
     "name": "stdout",
     "output_type": "stream",
     "text": [
      "The updated dataset now has 286690 entries\n"
     ]
    }
   ],
   "source": [
    "# Percentage-wise, that's not a ton of our population that shows up more than once, as expected.  So dropping these won't hurt our test.\n",
    "\n",
    "users_to_drop = session_counts[session_counts > 1].index\n",
    "\n",
    "df = df[~df['user_id'].isin(users_to_drop)]\n",
    "print(f'The updated dataset now has {df.shape[0]} entries')"
   ]
  },
  {
   "cell_type": "code",
   "execution_count": 9,
   "id": "69e90ea4-01c1-4589-a8f3-503154e220fa",
   "metadata": {},
   "outputs": [],
   "source": [
    "# Pandas has a sampling function we can use to pull our n from each of the categories.\n",
    "\n",
    "control_sample = df[df['group'] == 'control'].sample(n=required_n)       # Define the control sample as anything with \"control\" in the \"group\" column, then pick n of them\n",
    "treatment_sample = df[df['group'] == 'treatment'].sample(n=required_n)   # Same as above, except with \"treatment\"\n",
    "\n",
    "ab_test = pd.concat([control_sample, treatment_sample], axis = 0)        # Smash together the two above dataframes\n",
    "ab_test.reset_index(drop=True, inplace=True)                             # Clear out our index to keep things clean"
   ]
  },
  {
   "cell_type": "code",
   "execution_count": 10,
   "id": "ea866dc2-2b09-43d0-92a5-e217d826e183",
   "metadata": {},
   "outputs": [
    {
     "data": {
      "text/html": [
       "<div>\n",
       "<style scoped>\n",
       "    .dataframe tbody tr th:only-of-type {\n",
       "        vertical-align: middle;\n",
       "    }\n",
       "\n",
       "    .dataframe tbody tr th {\n",
       "        vertical-align: top;\n",
       "    }\n",
       "\n",
       "    .dataframe thead th {\n",
       "        text-align: right;\n",
       "    }\n",
       "</style>\n",
       "<table border=\"1\" class=\"dataframe\">\n",
       "  <thead>\n",
       "    <tr style=\"text-align: right;\">\n",
       "      <th></th>\n",
       "      <th>user_id</th>\n",
       "      <th>timestamp</th>\n",
       "      <th>group</th>\n",
       "      <th>landing_page</th>\n",
       "      <th>converted</th>\n",
       "    </tr>\n",
       "  </thead>\n",
       "  <tbody>\n",
       "    <tr>\n",
       "      <th>0</th>\n",
       "      <td>635434</td>\n",
       "      <td>2017-01-23 09:03:16.563940</td>\n",
       "      <td>control</td>\n",
       "      <td>old_page</td>\n",
       "      <td>0</td>\n",
       "    </tr>\n",
       "    <tr>\n",
       "      <th>1</th>\n",
       "      <td>903735</td>\n",
       "      <td>2017-01-04 12:48:50.407453</td>\n",
       "      <td>control</td>\n",
       "      <td>old_page</td>\n",
       "      <td>0</td>\n",
       "    </tr>\n",
       "    <tr>\n",
       "      <th>2</th>\n",
       "      <td>738847</td>\n",
       "      <td>2017-01-07 08:02:33.131749</td>\n",
       "      <td>control</td>\n",
       "      <td>old_page</td>\n",
       "      <td>0</td>\n",
       "    </tr>\n",
       "    <tr>\n",
       "      <th>3</th>\n",
       "      <td>706924</td>\n",
       "      <td>2017-01-04 23:47:27.670392</td>\n",
       "      <td>control</td>\n",
       "      <td>old_page</td>\n",
       "      <td>0</td>\n",
       "    </tr>\n",
       "    <tr>\n",
       "      <th>4</th>\n",
       "      <td>691331</td>\n",
       "      <td>2017-01-20 02:52:58.765367</td>\n",
       "      <td>control</td>\n",
       "      <td>old_page</td>\n",
       "      <td>0</td>\n",
       "    </tr>\n",
       "    <tr>\n",
       "      <th>...</th>\n",
       "      <td>...</td>\n",
       "      <td>...</td>\n",
       "      <td>...</td>\n",
       "      <td>...</td>\n",
       "      <td>...</td>\n",
       "    </tr>\n",
       "    <tr>\n",
       "      <th>9435</th>\n",
       "      <td>937084</td>\n",
       "      <td>2017-01-07 20:42:59.732147</td>\n",
       "      <td>treatment</td>\n",
       "      <td>new_page</td>\n",
       "      <td>0</td>\n",
       "    </tr>\n",
       "    <tr>\n",
       "      <th>9436</th>\n",
       "      <td>669795</td>\n",
       "      <td>2017-01-04 01:18:38.639267</td>\n",
       "      <td>treatment</td>\n",
       "      <td>new_page</td>\n",
       "      <td>0</td>\n",
       "    </tr>\n",
       "    <tr>\n",
       "      <th>9437</th>\n",
       "      <td>782336</td>\n",
       "      <td>2017-01-15 08:55:54.086034</td>\n",
       "      <td>treatment</td>\n",
       "      <td>new_page</td>\n",
       "      <td>0</td>\n",
       "    </tr>\n",
       "    <tr>\n",
       "      <th>9438</th>\n",
       "      <td>842673</td>\n",
       "      <td>2017-01-07 12:29:46.668678</td>\n",
       "      <td>treatment</td>\n",
       "      <td>new_page</td>\n",
       "      <td>0</td>\n",
       "    </tr>\n",
       "    <tr>\n",
       "      <th>9439</th>\n",
       "      <td>867829</td>\n",
       "      <td>2017-01-20 08:56:41.734175</td>\n",
       "      <td>treatment</td>\n",
       "      <td>new_page</td>\n",
       "      <td>0</td>\n",
       "    </tr>\n",
       "  </tbody>\n",
       "</table>\n",
       "<p>9440 rows × 5 columns</p>\n",
       "</div>"
      ],
      "text/plain": [
       "      user_id                   timestamp      group landing_page  converted\n",
       "0      635434  2017-01-23 09:03:16.563940    control     old_page          0\n",
       "1      903735  2017-01-04 12:48:50.407453    control     old_page          0\n",
       "2      738847  2017-01-07 08:02:33.131749    control     old_page          0\n",
       "3      706924  2017-01-04 23:47:27.670392    control     old_page          0\n",
       "4      691331  2017-01-20 02:52:58.765367    control     old_page          0\n",
       "...       ...                         ...        ...          ...        ...\n",
       "9435   937084  2017-01-07 20:42:59.732147  treatment     new_page          0\n",
       "9436   669795  2017-01-04 01:18:38.639267  treatment     new_page          0\n",
       "9437   782336  2017-01-15 08:55:54.086034  treatment     new_page          0\n",
       "9438   842673  2017-01-07 12:29:46.668678  treatment     new_page          0\n",
       "9439   867829  2017-01-20 08:56:41.734175  treatment     new_page          0\n",
       "\n",
       "[9440 rows x 5 columns]"
      ]
     },
     "execution_count": 10,
     "metadata": {},
     "output_type": "execute_result"
    }
   ],
   "source": [
    "ab_test"
   ]
  },
  {
   "cell_type": "code",
   "execution_count": 11,
   "id": "79e31510-4ebb-4152-bae1-c9381d9d8ece",
   "metadata": {},
   "outputs": [
    {
     "name": "stderr",
     "output_type": "stream",
     "text": [
      "C:\\Users\\dono8\\AppData\\Local\\Temp\\ipykernel_5288\\1175715124.py:6: FutureWarning: The provided callable <function mean at 0x000001D3F654F2E0> is currently using SeriesGroupBy.mean. In a future version of pandas, the provided callable will be used directly. To keep current behavior pass the string \"mean\" instead.\n",
      "  conversion_rates = conversion_rates.agg([np.mean, std_p, se_p])\n"
     ]
    },
    {
     "data": {
      "text/html": [
       "<style type=\"text/css\">\n",
       "</style>\n",
       "<table id=\"T_33e7b\">\n",
       "  <thead>\n",
       "    <tr>\n",
       "      <th class=\"blank level0\" >&nbsp;</th>\n",
       "      <th id=\"T_33e7b_level0_col0\" class=\"col_heading level0 col0\" >conversion_rate</th>\n",
       "      <th id=\"T_33e7b_level0_col1\" class=\"col_heading level0 col1\" >std_deviation</th>\n",
       "      <th id=\"T_33e7b_level0_col2\" class=\"col_heading level0 col2\" >std_error</th>\n",
       "    </tr>\n",
       "    <tr>\n",
       "      <th class=\"index_name level0\" >group</th>\n",
       "      <th class=\"blank col0\" >&nbsp;</th>\n",
       "      <th class=\"blank col1\" >&nbsp;</th>\n",
       "      <th class=\"blank col2\" >&nbsp;</th>\n",
       "    </tr>\n",
       "  </thead>\n",
       "  <tbody>\n",
       "    <tr>\n",
       "      <th id=\"T_33e7b_level0_row0\" class=\"row_heading level0 row0\" >control</th>\n",
       "      <td id=\"T_33e7b_row0_col0\" class=\"data row0 col0\" >0.120</td>\n",
       "      <td id=\"T_33e7b_row0_col1\" class=\"data row0 col1\" >0.325</td>\n",
       "      <td id=\"T_33e7b_row0_col2\" class=\"data row0 col2\" >0.005</td>\n",
       "    </tr>\n",
       "    <tr>\n",
       "      <th id=\"T_33e7b_level0_row1\" class=\"row_heading level0 row1\" >treatment</th>\n",
       "      <td id=\"T_33e7b_row1_col0\" class=\"data row1 col0\" >0.123</td>\n",
       "      <td id=\"T_33e7b_row1_col1\" class=\"data row1 col1\" >0.328</td>\n",
       "      <td id=\"T_33e7b_row1_col2\" class=\"data row1 col2\" >0.005</td>\n",
       "    </tr>\n",
       "  </tbody>\n",
       "</table>\n"
      ],
      "text/plain": [
       "<pandas.io.formats.style.Styler at 0x1d3fb7dc7d0>"
      ]
     },
     "execution_count": 11,
     "metadata": {},
     "output_type": "execute_result"
    }
   ],
   "source": [
    "conversion_rates = ab_test.groupby('group')['converted']\n",
    "\n",
    "std_p = lambda x: np.std(x, ddof=0)              # Std. deviation of the proportion\n",
    "se_p = lambda x: stats.sem(x, ddof=0)            # Std. error of the proportion (std / sqrt(n))\n",
    "\n",
    "conversion_rates = conversion_rates.agg([np.mean, std_p, se_p])\n",
    "conversion_rates.columns = ['conversion_rate', 'std_deviation', 'std_error']\n",
    "\n",
    "\n",
    "conversion_rates.style.format('{:.3f}')"
   ]
  },
  {
   "cell_type": "code",
   "execution_count": 13,
   "id": "2dc03d54-224e-43e6-852e-98eb1705cc13",
   "metadata": {},
   "outputs": [
    {
     "data": {
      "image/png": "[encoded data removed]",
      "text/plain": [
       "<Figure size 800x600 with 1 Axes>"
      ]
     },
     "metadata": {},
     "output_type": "display_data"
    }
   ],
   "source": [
    "# Overall, I'd say that the control group was trending more towards 12% conversion rather than the client's reported 13%\n",
    "# Either way, there *is* a lift of 0.3% in the treatment group, but not the 2% we were looking for\n",
    "# Chart!\n",
    "\n",
    "plt.figure(figsize=(8,6))\n",
    "\n",
    "sns.barplot(x=ab_test['group'], y=ab_test['converted'])\n",
    "errorbar=('ci', False)\n",
    "\n",
    "plt.ylim(0, 0.17)\n",
    "plt.title('Conversion rate by group', pad=20)\n",
    "plt.xlabel('Group', labelpad=15)\n",
    "plt.ylabel('Converted (proportion)', labelpad=15);\n"
   ]
  },
  {
   "cell_type": "code",
   "execution_count": 14,
   "id": "bc83c4f2-0b48-4ef4-8edd-c91bdaafa3f3",
   "metadata": {},
   "outputs": [],
   "source": [
    "# So we've done a whole lot, but we've not yet tested our hypothesis.  We've just selected our populations.\n",
    "# We have various stats we can pull here and can use statsmodels.stats.proportion to get p-value and confidence interval\n",
    "\n",
    "from statsmodels.stats.proportion import proportions_ztest, proportion_confint"
   ]
  },
  {
   "cell_type": "code",
   "execution_count": 15,
   "id": "5a2f3427-8e61-475f-8521-e68bfa359815",
   "metadata": {},
   "outputs": [],
   "source": [
    "control_results = ab_test[ab_test['group'] == 'control']['converted']\n",
    "treatment_results = ab_test[ab_test['group'] == 'treatment']['converted']"
   ]
  },
  {
   "cell_type": "code",
   "execution_count": 16,
   "id": "5b2b5ab4-d495-49bf-9a71-36d9a6d2e301",
   "metadata": {},
   "outputs": [
    {
     "name": "stdout",
     "output_type": "stream",
     "text": [
      "z statistic: -0.41\n",
      "p-value: 0.682\n",
      "ci 95% for control group: [0.111, 0.129]\n",
      "ci 95% for treatment group: [0.114, 0.132]\n"
     ]
    }
   ],
   "source": [
    "n_con = control_results.count()\n",
    "n_treat = treatment_results.count()\n",
    "successes = [control_results.sum(), treatment_results.sum()]\n",
    "nobs = [n_con, n_treat]\n",
    "\n",
    "z_stat, pval = proportions_ztest(successes, nobs=nobs)\n",
    "(lower_con, lower_treat), (upper_con, upper_treat) = proportion_confint(successes, nobs=nobs, alpha=0.05)\n",
    "\n",
    "print(f'z statistic: {z_stat:.2f}')\n",
    "print(f'p-value: {pval:.3f}')\n",
    "print(f'ci 95% for control group: [{lower_con:.3f}, {upper_con:.3f}]')\n",
    "print(f'ci 95% for treatment group: [{lower_treat:.3f}, {upper_treat:.3f}]')"
   ]
  },
  {
   "cell_type": "markdown",
   "id": "36eab833-f302-4afc-ae53-4aa44750021d",
   "metadata": {},
   "source": [
    "Our p-value is over our alpha level of 0.05 by a lot, so we can safely say that we cannot reject our null hypothesis in this instance.  Practically, this means that our new landing page didn't have the effect on conversions that we were looking for.  \n",
    "\n",
    "A few additional things. \n",
    "- Looking at the ci for the control group, we just barely on the high end fall short of what the client said the conversions were (12.9% vs 13%)\n",
    "- Our treatment barely gets over 13% on the high end, very short of the 15% we were looking to get\n",
    "- The implication here is that we're probably not getting the results from the redesign that we're looking for.\n",
    "\n",
    "We can always test/retest, and ought to if we have the time.  Perhaps our sampled population doesn't accurately reflect the reality, however, the parameters we chose for the statistical significance of our data was very reasonable.  Additional testing would probably confirm that the treatment isn't having much of an effect, even if the upper limits of our confidence intervals shift upward a bit with a different sample."
   ]
  },
  {
   "cell_type": "code",
   "execution_count": null,
   "id": "d7e62bb0-a15b-4673-96b2-596bb96f4a2b",
   "metadata": {},
   "outputs": [],
   "source": []
  }
 ],
 "metadata": {
  "kernelspec": {
   "display_name": "example",
   "language": "python",
   "name": "example"
  },
  "language_info": {
   "codemirror_mode": {
    "name": "ipython",
    "version": 3
   },
   "file_extension": ".py",
   "mimetype": "text/x-python",
   "name": "python",
   "nbconvert_exporter": "python",
   "pygments_lexer": "ipython3",
   "version": "3.12.3"
  }
 },
 "nbformat": 4,
 "nbformat_minor": 5
}
